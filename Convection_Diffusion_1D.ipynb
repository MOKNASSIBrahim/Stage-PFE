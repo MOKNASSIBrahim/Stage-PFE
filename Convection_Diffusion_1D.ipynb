{
 "cells": [
  {
   "cell_type": "code",
   "execution_count": 1,
   "id": "7bbfdf84",
   "metadata": {},
   "outputs": [],
   "source": [
    "import numpy as np\n",
    "import math\n",
    "import matplotlib.pyplot as plt\n",
    "from numpy import linalg\n",
    "from numba import njit"
   ]
  },
  {
   "cell_type": "markdown",
   "id": "30e468e8",
   "metadata": {},
   "source": [
    "# Advection-Diffusion linéaires:\n",
    "\\begin{equation}\n",
    "    \\begin{cases}\n",
    "    & \\frac{\\partial u}{\\partial t} + a \\frac{\\partial u}{\\partial x} = \\epsilon \\frac{\\partial^2 u}{\\partial x^2} \\quad \\text{pour} \\quad t > 0, \\quad x \\in [l, L]\\\\\n",
    "    & u(x,0)=u_0(x) \\quad \\forall x \\in [l,L]\n",
    "    \\end{cases}\n",
    "\\end{equation}"
   ]
  },
  {
   "cell_type": "code",
   "execution_count": 9,
   "id": "a7180aae",
   "metadata": {},
   "outputs": [],
   "source": [
    "#La Solution Iniciale:\n",
    "@njit\n",
    "def u0(x):\n",
    "    if  x>=1.5 and x<=2.5:\n",
    "        return 1\n",
    "    else: return 0\n",
    "\n",
    "\n",
    "\n",
    "# Le flux Exacte:\n",
    "@njit\n",
    "def F(u,a):\n",
    "    return a*u\n",
    "\n",
    "# Les Flux des schemas:\n",
    "@njit\n",
    "def Rusanov(ug,ud,a,dx,dt):\n",
    "    return 0.5*(F(ug,a)+F(ud,a))-a*(ud-ug)\n",
    "@njit\n",
    "\n",
    "def Rusanov2(ug,ud,a,dx,dt):\n",
    "    return 0.5*(F(ug,a)+F(ud,a)-a*(ud-ug))\n",
    "@njit\n",
    "def Roe(ug,ud,a,dx,dt):\n",
    "    if a >= 0:\n",
    "        return F(ug,a)\n",
    "    else:\n",
    "        return F(ud,a)\n",
    "    \n",
    "@njit   \n",
    "def LF(ug,ud, a ,dx,dt):\n",
    "    return 0.5*(F(ug,a)+F(ud,a)-(dx/(dt))*(ud-ug))\n",
    "       \n",
    "@njit\n",
    "def LFM(ug,ud, a ,dx,dt):\n",
    "    return 0.5*(F(ug,a)+F(ud,a)-0.5*(dx/(dt))*(ud-ug))\n",
    "       \n",
    "    \n",
    "@njit\n",
    "def LW(ug,ud, a, dx,dt):\n",
    "    return 0.5*(F(ug,a)+F(ud,a)-(dt/dx)*(a**2)*(ud-ug))\n",
    "       \n",
    "@njit\n",
    "def VFD(ug,ud, a, dx,dt):\n",
    "    if a>0:\n",
    "        return F(ug,a)\n",
    "    else:\n",
    "        return F(ud,a)\n",
    "\n",
    "@njit\n",
    "def VFC(ug,ud, a, dx,dt):\n",
    "    return F(0.5*(ug+ud)-alpha*(dt/dx)*a*(ud-ug),a)\n",
    "       "
   ]
  },
  {
   "cell_type": "code",
   "execution_count": 10,
   "id": "cba1b9e8",
   "metadata": {},
   "outputs": [],
   "source": [
    "def LinearAdvectionSolver(Flux, u0, T, l, L, a, epsilon , N, CFL1, CFL2):\n",
    "    \n",
    "    dx = (L-l)/(N-1)\n",
    "    \n",
    "    X = np.linspace(l,L,N)\n",
    "    \n",
    "        \n",
    "  \n",
    "    dt1=CFL1*dx/abs(a)\n",
    "    dt2=CFL2*dx**2/abs(epsilon)\n",
    "    dt=min(dt1,dt2)\n",
    "    \n",
    "    U0=np.array([u0(x) for x in X])\n",
    "    #U0=np.zeros(N)\n",
    "    #for j in range(0,N):\n",
    "        #U0[j]= np.sin(np.pi*X[j]/L)+0.25*np.sin(10*np.pi*X[j]/L)\n",
    "\n",
    "    Un = U0.copy()\n",
    "    Unp1 = np.zeros(N)\n",
    "    temps = 0\n",
    "    while temps < T:\n",
    "        dt=min(dt,T-dt)\n",
    "        temps += dt\n",
    "        for i in range(1,N-1):\n",
    "            Fd=Flux(Un[i],Un[i+1], a, dx, dt)\n",
    "            Fg=Flux(Un[i-1],Un[i], a, dx, dt)\n",
    "            Unp1[i]=Un[i]-dt/dx*(Fd-Fg)+ epsilon * (dt/(dx**2)) * (Un[i+1] - 2 * Un[i] + Un[i-1])\n",
    "\n",
    "        Unp1[0] = Unp1[1]\n",
    "        Unp1[N-1] = Unp1[N-2]\n",
    "\n",
    "\n",
    "        Un = Unp1.copy()\n",
    "        \n",
    "\n",
    "    return Un\n",
    "    "
   ]
  },
  {
   "cell_type": "code",
   "execution_count": 11,
   "id": "b1cc9f6f",
   "metadata": {},
   "outputs": [],
   "source": [
    "T=1\n",
    "l=0\n",
    "L=10\n",
    "a=2\n",
    "epsilon=0.01\n",
    "N=101\n",
    "CFL1=0.5\n",
    "CFL2=0.25\n",
    "alpha = 0.7\n",
    "\n",
    "Un_Roe = LinearAdvectionSolver(Roe, u0, T, l, L, a, epsilon, N, CFL1,CFL2)\n",
    "Un_Rsnv = LinearAdvectionSolver(Rusanov, u0, T, l, L, a,epsilon, N, CFL1,CFL2)\n",
    "Un_Rsnv2 = LinearAdvectionSolver(Rusanov2, u0, T, l, L, a, epsilon, N, CFL1,CFL2)\n",
    "Un_LF = LinearAdvectionSolver(LF, u0, T, l, L, a, epsilon, N, CFL1,CFL2)\n",
    "Un_LFM = LinearAdvectionSolver(LFM, u0, T, l, L, a, epsilon, N, CFL1,CFL2)\n",
    "Un_LW = LinearAdvectionSolver(LW, u0, T, l, L, a, epsilon, N, CFL1,CFL2)\n",
    "Un_VFD = LinearAdvectionSolver(VFD, u0, T, l, L, a, epsilon, N, CFL1,CFL2)\n",
    "Un_VFC = LinearAdvectionSolver(VFC, u0, T, l, L, a, epsilon, N, CFL1,CFL2)\n"
   ]
  },
  {
   "cell_type": "code",
   "execution_count": 13,
   "id": "6d52a1a6",
   "metadata": {},
   "outputs": [
    {
     "data": {
      "image/png": "[encoded data removed]",
      "text/plain": [
       "<Figure size 432x288 with 1 Axes>"
      ]
     },
     "metadata": {
      "needs_background": "light"
     },
     "output_type": "display_data"
    }
   ],
   "source": [
    "X = np.linspace(l,L,N)\n",
    "plt.plot(X, Un_Roe, '.-b', label='Roe')\n",
    "#plt.plot(X, Un_Rsnv, '*-g', label='Rsnv')\n",
    "plt.plot(X, Un_Rsnv2, '.-m', label='Rsnv2')\n",
    "#plt.plot(X, Un_LF, '*-y', label='L-F')\n",
    "#plt.plot(X, Un_LFM, '*-c', label='L-F mod')\n",
    "#plt.plot(X, Un_VFD, '*-k', label='VFD')\n",
    "#plt.plot(X, Un_LW, '*-r', label='L-W')\n",
    "#plt.plot(X, Un_VFC, '-k', label='VFD')\n",
    "\n",
    "######################\n",
    "#plt.xlim([6, 8])  \n",
    "#plt.ylim([0.4, 0.5])  \n",
    "\n",
    "plt.legend()\n",
    "plt.pause(0.1)"
   ]
  },
  {
   "cell_type": "code",
   "execution_count": 6,
   "id": "39a6c317",
   "metadata": {},
   "outputs": [
    {
     "name": "stdout",
     "output_type": "stream",
     "text": [
      "La norme pour le schema de Roe: 2.679614017228057\n",
      "La norme pour le schema volume fini decentré: 2.679614017228057\n",
      "La norme pour le schema Rusanov2: 2.679614017228057\n",
      "La norme pour le schema Lax-Freiderichs modifie: 2.4738658728431244\n",
      "La norme pour le schema Rusanov: 2.4738658728431244\n",
      "La norme pour le schema Lax-Freiderichs: 3.1417945766736033e+43\n",
      "La norme pour le schema Lax-Wendroff: 2.917333437119123\n",
      "La norme pour le schema volume fini carac: 2.8793246278279465\n"
     ]
    }
   ],
   "source": [
    "Norm_Roe =  np.linalg.norm(Un_Roe,ord = 2) \n",
    "Norm_Rsnv =  np.linalg.norm(Un_Rsnv,ord = 2) \n",
    "Norm_Rsnv2 =  np.linalg.norm(Un_Rsnv2,ord = 2) \n",
    "Norm_LF =  np.linalg.norm(Un_LF,ord = 2) \n",
    "Norm_LFM =  np.linalg.norm(Un_LFM,ord = 2) \n",
    "Norm_VFD =  np.linalg.norm(Un_VFD,ord = 2) \n",
    "Norm_VFC =  np.linalg.norm(Un_VFC,ord = 2) \n",
    "Norm_LW =  np.linalg.norm(Un_LW,ord = 2) \n",
    "\n",
    "print(f\"La norme pour le schema de Roe: {Norm_Roe}\")\n",
    "print(f\"La norme pour le schema volume fini decentré: {Norm_VFD}\")\n",
    "print(f\"La norme pour le schema Rusanov2: {Norm_Rsnv2}\")\n",
    "print(f\"La norme pour le schema Lax-Freiderichs modifie: {Norm_LFM}\")\n",
    "print(f\"La norme pour le schema Rusanov: {Norm_Rsnv}\")\n",
    "print(f\"La norme pour le schema Lax-Freiderichs: {Norm_LF}\")\n",
    "print(f\"La norme pour le schema Lax-Wendroff: {Norm_LW}\")\n",
    "print(f\"La norme pour le schema volume fini carac: {Norm_VFC}\")\n"
   ]
  },
  {
   "cell_type": "markdown",
   "id": "4246dea3",
   "metadata": {},
   "source": [
    "# Equation de Burgers avec Diffusion:\n",
    "\\begin{equation}\n",
    "    \\begin{cases}\n",
    "    & \\frac{\\partial u}{\\partial t} + u \\frac{\\partial u}{\\partial x} = \\epsilon \\frac{\\partial^2 u}{\\partial x^2} \\quad \\text{pour} \\quad t > 0, \\quad x \\in [l, L]\\\\\n",
    "    & u(x,0)=u_0(x) \\quad \\forall x \\in [l,L]\n",
    "    \\end{cases}\n",
    "\\end{equation}"
   ]
  },
  {
   "cell_type": "code",
   "execution_count": 2,
   "id": "cf7968b5",
   "metadata": {},
   "outputs": [],
   "source": [
    "\n",
    "\n",
    "#La Solution Iniciale:\n",
    "@njit\n",
    "def u0(x):\n",
    "    if  x <=l+ (L-l)/4:\n",
    "        return ul\n",
    "    if  x >l+ (L-l)/4 and x <l+ 3*(L-l)/4:\n",
    "        return um\n",
    "    else:\n",
    "        return ur\n",
    "\n",
    "\n",
    "# Le flux Exacte:\n",
    "@njit\n",
    "def F(u):\n",
    "    return (u**2)/2\n",
    "\n",
    "# Les Flux des schemas:\n",
    "@njit\n",
    "def Rusanov(ug,ud,dx,dt):\n",
    "    lamda= max(abs(ug),abs(ud))\n",
    "    return 0.5*(F(ug)+F(ud))-lamda*(ud-ug)\n",
    "\n",
    "@njit\n",
    "def Rusanov2(ug,ud,dx,dt):\n",
    "    lamda= max(abs(ug),abs(ud))\n",
    "    return 0.5*(F(ug)+F(ud)-lamda*(ud-ug))\n",
    "\n",
    "@njit\n",
    "def Roe(ug,ud,dx,dt):\n",
    "    return 0.5 *( (F(ug)+F(ud)) - (ug+ud)/2 *(ud-ug) )\n",
    "            \n",
    "@njit\n",
    "def LF(ug,ud,dx,dt):\n",
    "    return 0.5 *( (F(ug)+F(ud)) - (dx/dt) *(ud-ug) )\n",
    "\n",
    "@njit\n",
    "def LFM(ug,ud,dx,dt):\n",
    "    return 0.5 *( (F(ug)+F(ud)) - 0.5*(dx/dt) *(ud-ug) )\n",
    "\n",
    "@njit\n",
    "def LW(ug,ud,dx,dt):\n",
    "    A=0.5*(ug+ud)\n",
    "    return 0.5*(F(ug)+F(ud)-(dt/dx)*A*(F(ud)-F(ug)))\n",
    "\n",
    "@njit\n",
    "def VFC(ug,ud, dx,dt):\n",
    "    return F(0.5*(ug+ud)-alpha*(dt/dx)*(F(ud)-F(ug)))\n",
    "         \n",
    "          "
   ]
  },
  {
   "cell_type": "code",
   "execution_count": 5,
   "id": "8037f392",
   "metadata": {},
   "outputs": [],
   "source": [
    "def NonLinearBurgerSolver(Flux, u0, epsilon, T, l, L, N, CFL1, CFL2):\n",
    "    \n",
    "    dx = (L-l)/(N-1)\n",
    "    X = np.linspace(l,L,N)\n",
    "    dt2=CFL2*dx**2/abs(epsilon)\n",
    "    \n",
    "    U0=np.array([u0(x) for x in X])\n",
    "\n",
    "    Un = U0.copy()\n",
    "    Unp1 = np.zeros(N)\n",
    "    temps = 0\n",
    "    while temps <= T:\n",
    "        dt1=CFL1*dx/max(abs(Un))\n",
    "        dt=min(dt1,dt2)\n",
    "\n",
    "        for i in range(1,N-1):\n",
    "            Fd = Flux(Un[i],Un[i+1],dx,dt)\n",
    "            Fg = Flux(Un[i-1],Un[i],dx,dt)\n",
    "            Unp1[i] = Un[i]-dt/dx*(Fd-Fg)+ epsilon * dt / (dx**2) * (Un[i+1] - 2 * Un[i] + Un[i-1])\n",
    "\n",
    "        Unp1[0] = Unp1[1]\n",
    "        Unp1[N-1] = Unp1[N-2]\n",
    "\n",
    "\n",
    "        Un = Unp1.copy()\n",
    "        temps += dt\n",
    "\n",
    "    return Un"
   ]
  },
  {
   "cell_type": "code",
   "execution_count": 6,
   "id": "46c64a96",
   "metadata": {},
   "outputs": [],
   "source": [
    "ul = 0.2\n",
    "um = 0.8\n",
    "ur = 0.4\n",
    "T = 1/8\n",
    "l = 0\n",
    "L = 1\n",
    "a = 2\n",
    "epsilon = 0.08\n",
    "alpha = 0.7\n",
    "N = 101\n",
    "CFL1 = 0.5\n",
    "CFL2 = 0.5\n",
    "X = np.linspace(l,L,N)\n",
    "\n",
    "U0=np.array([u0(x) for x in X])\n",
    "Un_Roe = NonLinearBurgerSolver(Roe, u0, epsilon, T, l, L, N, CFL1, CFL2)\n",
    "Un_Rsnv = NonLinearBurgerSolver(Rusanov, u0, epsilon, T, l, L, N, CFL1, CFL2)\n",
    "Un_Rsnv2 = NonLinearBurgerSolver(Rusanov2, u0, epsilon, T, l, L, N, CFL1, CFL2)\n",
    "Un_LF = NonLinearBurgerSolver(LF, u0, epsilon, T, l, L, N, CFL1, CFL2)\n",
    "Un_LFM = NonLinearBurgerSolver(LFM, u0, epsilon, T, l, L, N, CFL1, CFL2)\n",
    "Un_LW = NonLinearBurgerSolver(LW, u0, epsilon, T, l, L, N, CFL1, CFL2)\n",
    "Un_VFC = NonLinearBurgerSolver(VFC, u0, epsilon, T, l, L, N, CFL1, CFL2)\n",
    "\n"
   ]
  },
  {
   "cell_type": "code",
   "execution_count": 8,
   "id": "f3febfd0",
   "metadata": {},
   "outputs": [
    {
     "data": {
      "image/png": "[encoded data removed]",
      "text/plain": [
       "<Figure size 432x288 with 1 Axes>"
      ]
     },
     "metadata": {
      "needs_background": "light"
     },
     "output_type": "display_data"
    }
   ],
   "source": [
    "#plt.plot(X, Un_Rsnv, '*-g', label='Rsnv')\n",
    "#plt.plot(X, Un_Rsnv2, '*-k', label='Rsnv2')\n",
    "#plt.plot(X, Un_LF, '*-y', label='L-F')\n",
    "#plt.plot(X, Un_LFM, '*-c', label='L-F mod')\n",
    "#plt.plot(X, Un_LW, '*-r', label='L-W')\n",
    "#plt.plot(X, Un_Roe, '*-b', label='Roe')\n",
    "plt.plot(X, Un_VFC, '-k', label='VFC')\n",
    "#plt.plot(X, U0, '-g', label='U0')\n",
    "\n",
    "\n",
    "plt.legend()\n",
    "###################\n",
    "#plt.xlim([0.4, 0.8])\n",
    "#plt.ylim([0.6, 0.82])  \n",
    "\n",
    "plt.show()"
   ]
  },
  {
   "cell_type": "code",
   "execution_count": 76,
   "id": "92eb4eeb",
   "metadata": {},
   "outputs": [
    {
     "name": "stdout",
     "output_type": "stream",
     "text": [
      "La norme pour le schema de Roe: 5.659013969471633\n",
      "La norme pour le schema Rusanov2: 5.658890018861186\n",
      "La norme pour le schema Lax-Freiderichs modifie: 5.631001157246609\n",
      "La norme pour le schema Rusanov: 5.6535937660916336\n",
      "La norme pour le schema Lax-Freiderichs: 8524.499645712662\n",
      "La norme pour le schema Lax-Wendroff: 5.664226779376086\n",
      "La norme pour le schema volume fini carac: 5.66415062061382\n"
     ]
    }
   ],
   "source": [
    "Norm_Roe =  np.linalg.norm(Un_Roe,ord = 2) \n",
    "Norm_Rsnv =  np.linalg.norm(Un_Rsnv,ord = 2) \n",
    "Norm_Rsnv2 =  np.linalg.norm(Un_Rsnv2,ord = 2) \n",
    "Norm_LF =  np.linalg.norm(Un_LF,ord = 2) \n",
    "Norm_LFM =  np.linalg.norm(Un_LFM,ord = 2) \n",
    "Norm_VFC =  np.linalg.norm(Un_VFC,ord = 2) \n",
    "Norm_LW =  np.linalg.norm(Un_LW,ord = 2) \n",
    "\n",
    "print(f\"La norme pour le schema de Roe: {Norm_Roe}\")\n",
    "print(f\"La norme pour le schema Rusanov2: {Norm_Rsnv2}\")\n",
    "print(f\"La norme pour le schema Lax-Freiderichs modifie: {Norm_LFM}\")\n",
    "print(f\"La norme pour le schema Rusanov: {Norm_Rsnv}\")\n",
    "print(f\"La norme pour le schema Lax-Freiderichs: {Norm_LF}\")\n",
    "print(f\"La norme pour le schema Lax-Wendroff: {Norm_LW}\")\n",
    "print(f\"La norme pour le schema volume fini carac: {Norm_VFC}\")\n"
   ]
  },
  {
   "cell_type": "markdown",
   "id": "4bec8311",
   "metadata": {},
   "source": [
    "### Cas d'un point sonique:"
   ]
  },
  {
   "cell_type": "code",
   "execution_count": 110,
   "id": "b6ce5cf8",
   "metadata": {},
   "outputs": [],
   "source": [
    "ul = -1\n",
    "um = 1\n",
    "ur = 0.4\n",
    "T = 1/8\n",
    "l = 0\n",
    "L = 1\n",
    "a = 2\n",
    "epsilon = 0.008\n",
    "alpha = 0.7\n",
    "N = 101\n",
    "CFL1 = 0.25\n",
    "CFL2 = 1\n",
    "X = np.linspace(l,L,N)\n",
    "\n",
    "U0=np.array([u0(x) for x in X])\n",
    "Un_Roe = NonLinearBurgerSolver(Roe, u0, epsilon, T, l, L, N, CFL1, CFL2)\n",
    "Un_Rsnv = NonLinearBurgerSolver(Rusanov, u0, epsilon, T, l, L, N, CFL1, CFL2)\n",
    "Un_Rsnv2 = NonLinearBurgerSolver(Rusanov2, u0, epsilon, T, l, L, N, CFL1, CFL2)\n",
    "Un_LF = NonLinearBurgerSolver(LF, u0, epsilon, T, l, L, N, CFL1, CFL2)\n",
    "Un_LFM = NonLinearBurgerSolver(LFM, u0, epsilon, T, l, L, N, CFL1, CFL2)\n",
    "Un_LW = NonLinearBurgerSolver(LW, u0, epsilon, T, l, L, N, CFL1, CFL2)\n",
    "Un_VFC = NonLinearBurgerSolver(VFC, u0, epsilon, T, l, L, N, CFL1, CFL2)\n",
    "\n"
   ]
  },
  {
   "cell_type": "code",
   "execution_count": 111,
   "id": "a2e1cdb7",
   "metadata": {},
   "outputs": [
    {
     "data": {
      "image/png": "[encoded data removed]",
      "text/plain": [
       "<Figure size 432x288 with 1 Axes>"
      ]
     },
     "metadata": {
      "needs_background": "light"
     },
     "output_type": "display_data"
    }
   ],
   "source": [
    "plt.plot(X, Un_Rsnv, '*-g', label='Rsnv')\n",
    "plt.plot(X, Un_Rsnv2, '*-k', label='Rsnv2')\n",
    "#plt.plot(X, Un_LF, '*-y', label='L-F')\n",
    "plt.plot(X, Un_LFM, '*-c', label='L-F mod')\n",
    "plt.plot(X, Un_LW, '*-r', label='L-W')\n",
    "plt.plot(X, Un_Roe, '*-b', label='Roe')\n",
    "plt.plot(X, Un_VFC, '-k', label='VFC')\n",
    "plt.plot(X, U0, '-g', label='U0')\n",
    "\n",
    "\n",
    "plt.legend()\n",
    "###################\n",
    "#plt.xlim([0.4, 0.8])\n",
    "#plt.ylim([0.6, 0.82])  \n",
    "\n",
    "plt.show()"
   ]
  },
  {
   "cell_type": "code",
   "execution_count": null,
   "id": "d080710c",
   "metadata": {},
   "outputs": [],
   "source": []
  }
 ],
 "metadata": {
  "kernelspec": {
   "display_name": "Python 3 (ipykernel)",
   "language": "python",
   "name": "python3"
  },
  "language_info": {
   "codemirror_mode": {
    "name": "ipython",
    "version": 3
   },
   "file_extension": ".py",
   "mimetype": "text/x-python",
   "name": "python",
   "nbconvert_exporter": "python",
   "pygments_lexer": "ipython3",
   "version": "3.10.12"
  }
 },
 "nbformat": 4,
 "nbformat_minor": 5
}
