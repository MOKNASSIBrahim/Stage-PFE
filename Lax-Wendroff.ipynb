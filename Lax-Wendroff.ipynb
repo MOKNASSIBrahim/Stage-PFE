{
 "cells": [
  {
   "cell_type": "code",
   "execution_count": 28,
   "id": "25970dde",
   "metadata": {},
   "outputs": [],
   "source": [
    "import numpy as np\n",
    "import math\n",
    "import matplotlib.pyplot as plt\n",
    "from numpy import linalg\n"
   ]
  },
  {
   "cell_type": "markdown",
   "id": "87b178c7",
   "metadata": {},
   "source": [
    "# CFL = 3/4:"
   ]
  },
  {
   "cell_type": "code",
   "execution_count": 33,
   "id": "92fe27cc",
   "metadata": {},
   "outputs": [
    {
     "data": {
      "image/png": "[encoded data removed]",
      "text/plain": [
       "<Figure size 432x288 with 1 Axes>"
      ]
     },
     "metadata": {
      "needs_background": "light"
     },
     "output_type": "display_data"
    },
    {
     "name": "stdout",
     "output_type": "stream",
     "text": [
      "L'erreur pour le schema Lax-Wendroff: 1.8565701482427859\n"
     ]
    }
   ],
   "source": [
    "# La vitesse:\n",
    "a = 2\n",
    "# Les extremites:\n",
    "l = -10\n",
    "L = 10\n",
    "# Le temps final:\n",
    "T=2\n",
    "# La descitisation du domaine:\n",
    "N = 101\n",
    "dx = (L-l)/(N-1)\n",
    "X = np.linspace(l,L,N)\n",
    "# CFL:\n",
    "CFL=0.75\n",
    "dt=CFL*dx/a\n",
    "\n",
    "\n",
    "# La solution initiale:\n",
    "\n",
    "def u0(x):\n",
    "    if  x>=-2 and x <= 2:\n",
    "        return 2\n",
    "    else: return 0\n",
    "\n",
    "# Le flux Exacte:\n",
    "def F(u):\n",
    "    return a*u\n",
    "\n",
    "\n",
    "\n",
    "    \n",
    "def LW(ug,ud):\n",
    "    return 0.5*(F(ug)+F(ud)-(dt/dx)*(a**2)*(ud-ug))\n",
    "       \n",
    "    \n",
    "U0=np.array([u0(x) for x in X])\n",
    "\n",
    "\n",
    "\n",
    "Un_LW = U0.copy()\n",
    "Unp1_LW = np.zeros(N)\n",
    "\n",
    " \n",
    "\n",
    "\n",
    "j=0\n",
    "temps = 0\n",
    "while temps <= T:\n",
    "    ############################################################################################\n",
    "    ############################### Shema De Lax_Wendroff ####################################\n",
    "    ############################################################################################\n",
    "    for i in range(1,N-1):\n",
    "        Fd=LW(Un_LW[i],Un_LW[i+1])\n",
    "        Fg=LW(Un_LW[i-1],Un_LW[i])  \n",
    "        Unp1_LW[i]=Un_LW[i]-dt/dx*(Fd-Fg)\n",
    "        \n",
    "    Unp1_LW[0] = Unp1_LW[1]\n",
    "    Unp1_LW[N-1] = Unp1_LW[N-2]\n",
    "    \n",
    "    \n",
    "    Un_LW = Unp1_LW.copy()\n",
    "    \n",
    "    \n",
    "    ############################################################################################\n",
    "    #################################### Solution Exacte #######################################\n",
    "    ############################################################################################\n",
    "    Uexact = np.zeros(N)\n",
    "    for i in range(N):\n",
    "        Uexact[i] = u0(X[i] - a * temps)\n",
    "       \n",
    "    temps = temps + dt\n",
    "    \n",
    "plt.plot(X, Uexact, '-r', label=f'Sol exacte a t={temps:.2f}')\n",
    "plt.plot(X, Un_LW, '*-y', label='schema Lax-Wendroff')\n",
    "\n",
    "plt.legend()\n",
    "plt.pause(0.1)   \n",
    "\n",
    "e_LW =  np.linalg.norm(Uexact - Un_LW,ord = 2) \n",
    "\n",
    "print(f\"L'erreur pour le schema Lax-Wendroff: {e_LW}\")\n"
   ]
  },
  {
   "cell_type": "markdown",
   "id": "80368a99",
   "metadata": {},
   "source": [
    "# CFL = 1:"
   ]
  },
  {
   "cell_type": "code",
   "execution_count": 34,
   "id": "38fbdaf6",
   "metadata": {},
   "outputs": [
    {
     "data": {
      "image/png": "[encoded data removed]",
      "text/plain": [
       "<Figure size 432x288 with 1 Axes>"
      ]
     },
     "metadata": {
      "needs_background": "light"
     },
     "output_type": "display_data"
    },
    {
     "name": "stdout",
     "output_type": "stream",
     "text": [
      "L'erreur pour le schema Lax-Wendroff: 2.0\n"
     ]
    }
   ],
   "source": [
    "\n",
    "CFL=1\n",
    "dt=CFL*dx/a\n",
    "\n",
    "\n",
    "# La solution initiale:\n",
    "\n",
    "\n",
    "U0=np.array([u0(x) for x in X])\n",
    "\n",
    "\n",
    "\n",
    "Un_LW = U0.copy()\n",
    "Unp1_LW = np.zeros(N)\n",
    "\n",
    " \n",
    "\n",
    "\n",
    "j=0\n",
    "temps = 0\n",
    "while temps <= T:\n",
    "    ############################################################################################\n",
    "    ############################### Shema De Lax_Wendroff ####################################\n",
    "    ############################################################################################\n",
    "    for i in range(1,N-1):\n",
    "        Fd=LW(Un_LW[i],Un_LW[i+1])\n",
    "        Fg=LW(Un_LW[i-1],Un_LW[i])  \n",
    "        Unp1_LW[i]=Un_LW[i]-dt/dx*(Fd-Fg)\n",
    "        \n",
    "    Unp1_LW[0] = Unp1_LW[1]\n",
    "    Unp1_LW[N-1] = Unp1_LW[N-2]\n",
    "    \n",
    "    \n",
    "    Un_LW = Unp1_LW.copy()\n",
    "    \n",
    "    \n",
    "    ############################################################################################\n",
    "    #################################### Solution Exacte #######################################\n",
    "    ############################################################################################\n",
    "    Uexact = np.zeros(N)\n",
    "    for i in range(N):\n",
    "        Uexact[i] = u0(X[i] - a * temps)\n",
    "       \n",
    "    temps = temps + dt\n",
    "    \n",
    "plt.plot(X, Uexact, '-r', label=f'Sol exacte a t={temps:.2f}')\n",
    "plt.plot(X, Un_LW, '*-y', label='schema Lax-Wendroff')\n",
    "\n",
    "plt.legend()\n",
    "plt.pause(0.1)   \n",
    "\n",
    "e_LW =  np.linalg.norm(Uexact - Un_LW,ord = 2) \n",
    "\n",
    "print(f\"L'erreur pour le schema Lax-Wendroff: {e_LW}\")\n"
   ]
  },
  {
   "cell_type": "code",
   "execution_count": null,
   "id": "a3a92df3",
   "metadata": {},
   "outputs": [],
   "source": []
  }
 ],
 "metadata": {
  "kernelspec": {
   "display_name": "Python 3 (ipykernel)",
   "language": "python",
   "name": "python3"
  },
  "language_info": {
   "codemirror_mode": {
    "name": "ipython",
    "version": 3
   },
   "file_extension": ".py",
   "mimetype": "text/x-python",
   "name": "python",
   "nbconvert_exporter": "python",
   "pygments_lexer": "ipython3",
   "version": "3.10.12"
  }
 },
 "nbformat": 4,
 "nbformat_minor": 5
}
